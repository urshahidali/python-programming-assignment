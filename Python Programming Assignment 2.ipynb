{
 "cells": [
  {
   "cell_type": "code",
   "execution_count": 2,
   "id": "3e304be6",
   "metadata": {},
   "outputs": [
    {
     "name": "stdout",
     "output_type": "stream",
     "text": [
      "Enter the Kilometer:25.5\n",
      "Kilometer to Miles conversion is 15.844965344999999\n"
     ]
    }
   ],
   "source": [
    "#1. Write a Python program to convert kilometers to miles?\n",
    "Kilometer = float(input(\"Enter the Kilometer:\"))\n",
    "Unit_Conversion = 0.62137119\n",
    "Miles = Kilometer * Unit_Conversion\n",
    "print (\"Kilometer to Miles conversion is\", Miles)"
   ]
  },
  {
   "cell_type": "code",
   "execution_count": 12,
   "id": "67cfc3ea",
   "metadata": {},
   "outputs": [
    {
     "name": "stdout",
     "output_type": "stream",
     "text": [
      "Enter the Celcius value:10\n",
      "Celcius to Farhenhiet Conversion is: 50.0\n"
     ]
    }
   ],
   "source": [
    "#2. Write a Python program to convert Celsius to Fahrenheit?\n",
    "Celsius = float(input(\"Enter the Celcius value:\"))\n",
    "Farhenhiet = (Celsius * 1.8) + 32\n",
    "print (\"Celcius to Farhenhiet Conversion is:\", Farhenhiet)"
   ]
  },
  {
   "cell_type": "code",
   "execution_count": 26,
   "id": "46731b12",
   "metadata": {},
   "outputs": [
    {
     "name": "stdout",
     "output_type": "stream",
     "text": [
      " Enter Year : 2022\n",
      "Enter Month : 1\n",
      "Calender\n",
      "    January 2022\n",
      "Mo Tu We Th Fr Sa Su\n",
      "                1  2\n",
      " 3  4  5  6  7  8  9\n",
      "10 11 12 13 14 15 16\n",
      "17 18 19 20 21 22 23\n",
      "24 25 26 27 28 29 30\n",
      "31\n",
      "\n"
     ]
    }
   ],
   "source": [
    "#3. Write a Python program to display calendar?\n",
    "import calendar\n",
    "\n",
    "a = int(input(\" Enter Year : \"))\n",
    "b = int(input(\"Enter Month : \"))\n",
    "\n",
    "try :\n",
    "    print(\"Calender\")\n",
    "    print(calendar.month(a,b))\n",
    "except:\n",
    "    print(\"out of range\")"
   ]
  },
  {
   "cell_type": "code",
   "execution_count": 27,
   "id": "2dba77fc",
   "metadata": {},
   "outputs": [
    {
     "name": "stdout",
     "output_type": "stream",
     "text": [
      " Enter value of a : 10\n",
      " Enter value of b : 20\n",
      " Enter value of c : 30\n",
      "The roots are\n",
      "(-1-1.4142135623730951j)\n",
      "(-1+1.4142135623730951j)\n"
     ]
    }
   ],
   "source": [
    "#4. Write a Python program to solve quadratic equation?\n",
    "import cmath\n",
    "  \n",
    "\n",
    "a = int(input(\" Enter value of a : \"))\n",
    "b = int(input(\" Enter value of b : \"))\n",
    "c = int(input(\" Enter value of c : \"))\n",
    "# calculating  the discriminant\n",
    "dis = (b**2) - (4 * a*c)\n",
    "  \n",
    "# find two results\n",
    "x1 = (-b-cmath.sqrt(dis))/(2 * a)\n",
    "x2 = (-b + cmath.sqrt(dis))/(2 * a)\n",
    "  \n",
    "# printing the results\n",
    "print('The roots are')\n",
    "print(x1)\n",
    "print(x2)\n"
   ]
  },
  {
   "cell_type": "code",
   "execution_count": 24,
   "id": "6e31dd7b",
   "metadata": {},
   "outputs": [
    {
     "name": "stdout",
     "output_type": "stream",
     "text": [
      "Number1 : 10\n",
      "Number2 : 20\n",
      "Before swaping a = 10  b = 20\n",
      "After swaping a = 20  b = 10\n"
     ]
    }
   ],
   "source": [
    "#5. Write a Python program to swap two variables without temp variable?\n",
    "a = int(input(\"Number1 : \"))\n",
    "b = int(input(\"Number2 : \"))\n",
    "print(\"Before swaping a = {}  b = {}\".format(a,b))\n",
    "#Swaping of Number\n",
    "b,a = a,b\n",
    "print(\"After swaping a = {}  b = {}\".format(a,b))"
   ]
  },
  {
   "cell_type": "code",
   "execution_count": null,
   "id": "c485ba7b",
   "metadata": {},
   "outputs": [],
   "source": []
  }
 ],
 "metadata": {
  "kernelspec": {
   "display_name": "Python 3 (ipykernel)",
   "language": "python",
   "name": "python3"
  },
  "language_info": {
   "codemirror_mode": {
    "name": "ipython",
    "version": 3
   },
   "file_extension": ".py",
   "mimetype": "text/x-python",
   "name": "python",
   "nbconvert_exporter": "python",
   "pygments_lexer": "ipython3",
   "version": "3.9.7"
  }
 },
 "nbformat": 4,
 "nbformat_minor": 5
}
