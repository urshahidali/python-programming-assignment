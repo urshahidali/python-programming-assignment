{
 "cells": [
  {
   "cell_type": "code",
   "execution_count": 1,
   "id": "9738aa5d",
   "metadata": {},
   "outputs": [
    {
     "name": "stdout",
     "output_type": "stream",
     "text": [
      "Hello Python\n"
     ]
    }
   ],
   "source": [
    "#1. Write a Python program to print \"Hello Python\"?\n",
    "print (\"Hello Python\")"
   ]
  },
  {
   "cell_type": "code",
   "execution_count": 13,
   "id": "4902d894",
   "metadata": {},
   "outputs": [
    {
     "name": "stdout",
     "output_type": "stream",
     "text": [
      "Addition of a+b is 14\n",
      "Division of a/b is 1.3333333333333333\n"
     ]
    }
   ],
   "source": [
    "#2. Write a Python program to do arithmetical operations addition and division.?\n",
    "a = 8\n",
    "b = 6\n",
    "print (\"Addition of a+b is\", a+b)\n",
    "print (\"Division of a/b is\", a/b)"
   ]
  },
  {
   "cell_type": "code",
   "execution_count": 14,
   "id": "5cbdef35",
   "metadata": {},
   "outputs": [
    {
     "name": "stdout",
     "output_type": "stream",
     "text": [
      "20\n",
      "50\n",
      "Area of Triangle is 500.0\n"
     ]
    }
   ],
   "source": [
    "#3. Write a Python program to find the area of a triangle?\n",
    "Base = int (input())\n",
    "Height = int (input())\n",
    "Area = (Base*Height)/2\n",
    "print (\"Area of Triangle is\", Area)"
   ]
  },
  {
   "cell_type": "code",
   "execution_count": 16,
   "id": "e8147d2a",
   "metadata": {},
   "outputs": [
    {
     "name": "stdout",
     "output_type": "stream",
     "text": [
      "Before Swapping a = 100, b = 200\n",
      "After Swapping a = 200, b = 100\n"
     ]
    }
   ],
   "source": [
    "#4. Write a Python program to swap two variables?\n",
    "a = 100\n",
    "b = 200\n",
    "\n",
    "print (\"Before Swapping a = {}, b = {}\".format(a,b))\n",
    "temp = a\n",
    "a = b\n",
    "b = temp\n",
    "\n",
    "print (\"After Swapping a = {}, b = {}\".format(a,b))"
   ]
  },
  {
   "cell_type": "code",
   "execution_count": 21,
   "id": "e89af52f",
   "metadata": {},
   "outputs": [
    {
     "name": "stdout",
     "output_type": "stream",
     "text": [
      "5\n"
     ]
    }
   ],
   "source": [
    "#5. Write a Python program to generate a random number?\n",
    "import random\n",
    "\n",
    "random_Number = random.randint(0,50)\n",
    "print(random_Number)"
   ]
  }
 ],
 "metadata": {
  "kernelspec": {
   "display_name": "Python 3 (ipykernel)",
   "language": "python",
   "name": "python3"
  },
  "language_info": {
   "codemirror_mode": {
    "name": "ipython",
    "version": 3
   },
   "file_extension": ".py",
   "mimetype": "text/x-python",
   "name": "python",
   "nbconvert_exporter": "python",
   "pygments_lexer": "ipython3",
   "version": "3.9.7"
  }
 },
 "nbformat": 4,
 "nbformat_minor": 5
}
